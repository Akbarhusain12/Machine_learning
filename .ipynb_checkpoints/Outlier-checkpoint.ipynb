{
 "cells": [
  {
   "cell_type": "code",
   "execution_count": null,
   "id": "05917093-7143-4f02-b430-61e3876beb5e",
   "metadata": {},
   "outputs": [],
   "source": [
    "import numpy as np\n",
    "import warnings\n",
    "warnings.filterwarnings('ignore')"
   ]
  },
  {
   "cell_type": "code",
   "execution_count": null,
   "id": "21dd81c8-5e07-4966-b795-3c9fe4a2c306",
   "metadata": {},
   "outputs": [],
   "source": [
    "data = [10,12,14,11,13,100,12,15,14,11,200,300]\n",
    "mean = np.mean(data)\n",
    "mean"
   ]
  },
  {
   "cell_type": "code",
   "execution_count": null,
   "id": "2006e61e-e17f-40a0-8dc3-5ca97436b9e3",
   "metadata": {},
   "outputs": [],
   "source": [
    "std = np.std(mean)"
   ]
  },
  {
   "cell_type": "code",
   "execution_count": null,
   "id": "8c31156b-04fa-49f5-bbb8-bac0764a542b",
   "metadata": {},
   "outputs": [],
   "source": [
    "std"
   ]
  },
  {
   "cell_type": "code",
   "execution_count": null,
   "id": "d2537847-aa6f-447d-8f9f-f6c9e14b42fa",
   "metadata": {},
   "outputs": [],
   "source": [
    "threshold = 3\n",
    "outlier = [x for x in data if(x - mean)/ std > threshold]\n",
    "outlier"
   ]
  },
  {
   "cell_type": "code",
   "execution_count": null,
   "id": "58c92b7a-1e12-40c3-b5a3-e39babd118d2",
   "metadata": {},
   "outputs": [],
   "source": [
    "filtered = [x for x in data if x not in outlier]\n",
    "\n",
    "print(\"Original Data:\", data)\n",
    "print(\"Outliers:\", outlier)\n",
    "print(\"Filtered Data:\", filtered)"
   ]
  },
  {
   "cell_type": "code",
   "execution_count": null,
   "id": "cf92d103-dd39-41e0-a23d-6479a9b6a0af",
   "metadata": {},
   "outputs": [],
   "source": []
  }
 ],
 "metadata": {
  "kernelspec": {
   "display_name": "Python 3 (ipykernel)",
   "language": "python",
   "name": "python3"
  },
  "language_info": {
   "codemirror_mode": {
    "name": "ipython",
    "version": 3
   },
   "file_extension": ".py",
   "mimetype": "text/x-python",
   "name": "python",
   "nbconvert_exporter": "python",
   "pygments_lexer": "ipython3",
   "version": "3.12.2"
  }
 },
 "nbformat": 4,
 "nbformat_minor": 5
}
