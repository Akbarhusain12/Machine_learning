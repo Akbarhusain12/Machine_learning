{
 "cells": [
  {
   "cell_type": "code",
   "execution_count": 1,
   "id": "f56ea71d-424a-4858-889c-b382057fe29e",
   "metadata": {},
   "outputs": [],
   "source": [
    "# Using Decision Tree"
   ]
  },
  {
   "cell_type": "code",
   "execution_count": 2,
   "id": "dde4f778-bab5-4f3d-ba8d-8a430fffbd1e",
   "metadata": {},
   "outputs": [],
   "source": [
    "import pandas as pd\n",
    "from sklearn.model_selection import train_test_split\n",
    "from sklearn.tree import DecisionTreeClassifier\n",
    "from sklearn.metrics import accuracy_score"
   ]
  },
  {
   "cell_type": "code",
   "execution_count": 3,
   "id": "b8f64297-0afa-4778-a697-3d142cb5d77a",
   "metadata": {},
   "outputs": [],
   "source": [
    "data = {'Age': [45, 50, 35, 60, 40, 55, 25, 48],\n",
    "'Glucose': [180, 155, 100, 200, 130, 190, 85, 170],\n",
    "'BMI': [28.5, 30.1, 24.3, 32.0, 27.5, 31.4, 22.1, 29.7],\n",
    "'BloodPressure': [80, 75, 68, 85, 70, 78, 65, 82],\n",
    "'Diabetes': [1, 1, 0, 1, 0, 1, 0, 1]} \n",
    "df = pd.DataFrame(data)"
   ]
  },
  {
   "cell_type": "code",
   "execution_count": 4,
   "id": "43d3ac2c-6735-416d-a16e-031614b65529",
   "metadata": {},
   "outputs": [
    {
     "name": "stdout",
     "output_type": "stream",
     "text": [
      "Accuracy: 100.00%\n"
     ]
    }
   ],
   "source": [
    "X = df.drop(columns=['Diabetes']) \n",
    "y = df['Diabetes']\n",
    "X_train, X_test, y_train, y_test = train_test_split(X, y, test_size=0.2, random_state=42)\n",
    "model = DecisionTreeClassifier()\n",
    "model.fit(X_train, y_train)\n",
    "y_pred = model.predict(X_test)\n",
    "accuracy = accuracy_score(y_test, y_pred)\n",
    "print(f'Accuracy: {accuracy * 100:.2f}%')"
   ]
  },
  {
   "cell_type": "code",
   "execution_count": 5,
   "id": "a3ab2174-7bd1-4b75-8b6d-d67cced651b8",
   "metadata": {},
   "outputs": [],
   "source": [
    "# Using KNN"
   ]
  },
  {
   "cell_type": "code",
   "execution_count": 6,
   "id": "cf51fd42-13de-4646-9881-2ba71a261b8f",
   "metadata": {},
   "outputs": [],
   "source": [
    "from sklearn.neighbors import KNeighborsClassifier\n",
    "from sklearn.preprocessing import StandardScaler"
   ]
  },
  {
   "cell_type": "code",
   "execution_count": 7,
   "id": "86a8de32-3e24-48da-b07a-d69f5c34b17c",
   "metadata": {},
   "outputs": [],
   "source": [
    "data = {'Age': [45, 50, 35, 60, 40, 55, 25, 48, 52, 30],\n",
    "'Glucose': [180, 155, 100, 200, 130, 190, 85, 170, 160, 95],\n",
    "'BMI': [28.5, 30.1, 24.3, 32.0, 27.5, 31.4, 22.1, 29.7, 30.5, 23.4],\n",
    "'BloodPressure': [80, 75, 68, 85, 70, 78, 65, 82, 76, 67],\n",
    "'Diabetes': [1, 1, 0, 1, 0, 1, 0, 1, 1, 0]} \n",
    "df = pd.DataFrame(data)"
   ]
  },
  {
   "cell_type": "code",
   "execution_count": 8,
   "id": "1fb59208-02a8-417d-9809-fffff2dd8878",
   "metadata": {},
   "outputs": [],
   "source": [
    "X = df.drop(columns=['Diabetes']) # Features\n",
    "y = df['Diabetes'] # Target variable\n",
    "scaler = StandardScaler()\n",
    "X_scaled = scaler.fit_transform(X) # Normalize feature values\n",
    "X_train, X_test, y_train, y_test = train_test_split(X_scaled, y, test_size=0.2,\n",
    "random_state=42)"
   ]
  },
  {
   "cell_type": "code",
   "execution_count": 9,
   "id": "dc74e994-5c18-46fa-940e-2b9047c6c8ec",
   "metadata": {},
   "outputs": [
    {
     "name": "stdout",
     "output_type": "stream",
     "text": [
      "Accuracy: 100.00%\n"
     ]
    }
   ],
   "source": [
    "model = KNeighborsClassifier(n_neighbors=3)\n",
    "model.fit(X_train, y_train)\n",
    "y_pred = model.predict(X_test)\n",
    "accuracy = accuracy_score(y_test, y_pred)\n",
    "print(f'Accuracy: {accuracy * 100:.2f}%')"
   ]
  },
  {
   "cell_type": "code",
   "execution_count": 10,
   "id": "65ed15f0-dfaf-4286-81ef-b03cc975a48a",
   "metadata": {},
   "outputs": [],
   "source": [
    "# Using SVM"
   ]
  },
  {
   "cell_type": "code",
   "execution_count": 14,
   "id": "e20a7a30-c7bf-432d-b5d6-7cf3bce1f724",
   "metadata": {},
   "outputs": [],
   "source": [
    "from sklearn.svm import SVC"
   ]
  },
  {
   "cell_type": "code",
   "execution_count": 16,
   "id": "3c29a1a5-8fdc-4190-bb5c-456963970c9b",
   "metadata": {},
   "outputs": [
    {
     "name": "stdout",
     "output_type": "stream",
     "text": [
      "Accuracy: 100.00%\n"
     ]
    }
   ],
   "source": [
    "model = SVC(kernel='rbf', random_state=42)\n",
    "model.fit(X_train, y_train)\n",
    "y_pred = model.predict(X_test)\n",
    "accuracy = accuracy_score(y_test, y_pred)\n",
    "print(f'Accuracy: {accuracy * 100:.2f}%')"
   ]
  },
  {
   "cell_type": "code",
   "execution_count": null,
   "id": "ebfbe44d-3238-4f1b-ba3f-af3574362971",
   "metadata": {},
   "outputs": [],
   "source": []
  }
 ],
 "metadata": {
  "kernelspec": {
   "display_name": "Python 3 (ipykernel)",
   "language": "python",
   "name": "python3"
  },
  "language_info": {
   "codemirror_mode": {
    "name": "ipython",
    "version": 3
   },
   "file_extension": ".py",
   "mimetype": "text/x-python",
   "name": "python",
   "nbconvert_exporter": "python",
   "pygments_lexer": "ipython3",
   "version": "3.13.2"
  }
 },
 "nbformat": 4,
 "nbformat_minor": 5
}
