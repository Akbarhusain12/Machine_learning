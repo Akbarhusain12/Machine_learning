{
 "cells": [
  {
   "cell_type": "code",
   "execution_count": 1,
   "id": "05917093-7143-4f02-b430-61e3876beb5e",
   "metadata": {},
   "outputs": [],
   "source": [
    "import numpy as np\n",
    "import warnings\n",
    "warnings.filterwarnings('ignore')"
   ]
  },
  {
   "cell_type": "code",
   "execution_count": 2,
   "id": "21dd81c8-5e07-4966-b795-3c9fe4a2c306",
   "metadata": {},
   "outputs": [
    {
     "data": {
      "text/plain": [
       "59.333333333333336"
      ]
     },
     "execution_count": 2,
     "metadata": {},
     "output_type": "execute_result"
    }
   ],
   "source": [
    "data = [10,12,14,11,13,100,12,15,14,11,200,300]\n",
    "mean = np.mean(data)\n",
    "mean"
   ]
  },
  {
   "cell_type": "code",
   "execution_count": 3,
   "id": "2006e61e-e17f-40a0-8dc3-5ca97436b9e3",
   "metadata": {},
   "outputs": [],
   "source": [
    "std = np.std(mean)"
   ]
  },
  {
   "cell_type": "code",
   "execution_count": 4,
   "id": "8c31156b-04fa-49f5-bbb8-bac0764a542b",
   "metadata": {},
   "outputs": [
    {
     "data": {
      "text/plain": [
       "0.0"
      ]
     },
     "execution_count": 4,
     "metadata": {},
     "output_type": "execute_result"
    }
   ],
   "source": [
    "std"
   ]
  },
  {
   "cell_type": "code",
   "execution_count": 5,
   "id": "d2537847-aa6f-447d-8f9f-f6c9e14b42fa",
   "metadata": {},
   "outputs": [
    {
     "data": {
      "text/plain": [
       "[100, 200, 300]"
      ]
     },
     "execution_count": 5,
     "metadata": {},
     "output_type": "execute_result"
    }
   ],
   "source": [
    "threshold = 3\n",
    "outlier = [x for x in data if(x - mean)/ std > threshold]\n",
    "outlier"
   ]
  },
  {
   "cell_type": "code",
   "execution_count": 6,
   "id": "58c92b7a-1e12-40c3-b5a3-e39babd118d2",
   "metadata": {},
   "outputs": [
    {
     "name": "stdout",
     "output_type": "stream",
     "text": [
      "Original Data: [10, 12, 14, 11, 13, 100, 12, 15, 14, 11, 200, 300]\n",
      "Outliers: [100, 200, 300]\n",
      "Filtered Data: [10, 12, 14, 11, 13, 12, 15, 14, 11]\n"
     ]
    }
   ],
   "source": [
    "filtered = [x for x in data if x not in outlier]\n",
    "\n",
    "print(\"Original Data:\", data)\n",
    "print(\"Outliers:\", outlier)\n",
    "print(\"Filtered Data:\", filtered)"
   ]
  },
  {
   "cell_type": "code",
   "execution_count": null,
   "id": "d162e9e4-e6f7-4101-a980-f721b3463b4b",
   "metadata": {},
   "outputs": [],
   "source": []
  }
 ],
 "metadata": {
  "kernelspec": {
   "display_name": "Python 3 (ipykernel)",
   "language": "python",
   "name": "python3"
  },
  "language_info": {
   "codemirror_mode": {
    "name": "ipython",
    "version": 3
   },
   "file_extension": ".py",
   "mimetype": "text/x-python",
   "name": "python",
   "nbconvert_exporter": "python",
   "pygments_lexer": "ipython3",
   "version": "3.12.2"
  }
 },
 "nbformat": 4,
 "nbformat_minor": 5
}
